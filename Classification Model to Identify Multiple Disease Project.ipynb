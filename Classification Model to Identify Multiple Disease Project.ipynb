{
 "cells": [
  {
   "cell_type": "markdown",
   "metadata": {
    "id": "I18Jq4byuxJz"
   },
   "source": [
    "# **⭐ Classification Model to Identify Multiple Disease**"
   ]
  },
  {
   "cell_type": "code",
   "execution_count": 3,
   "metadata": {
    "id": "KMnSezUyqBGC"
   },
   "outputs": [],
   "source": [
    "# import library\n",
    "import pandas as pd\n",
    "import numpy as np"
   ]
  },
  {
   "cell_type": "code",
   "execution_count": 4,
   "metadata": {
    "id": "sSNrMT5cu0QO"
   },
   "outputs": [],
   "source": [
    "# import data\n",
    "disease = pd.read_csv('https://github.com/ybifoundation/Dataset/raw/main/MultipleDiseasePrediction.csv')"
   ]
  },
  {
   "cell_type": "code",
   "execution_count": 5,
   "metadata": {},
   "outputs": [
    {
     "name": "stdout",
     "output_type": "stream",
     "text": [
      "<class 'pandas.core.frame.DataFrame'>\n",
      "RangeIndex: 4920 entries, 0 to 4919\n",
      "Columns: 133 entries, itching to prognosis\n",
      "dtypes: int64(132), object(1)\n",
      "memory usage: 5.0+ MB\n"
     ]
    }
   ],
   "source": [
    "# info of data\n",
    "\n",
    "disease.info()"
   ]
  },
  {
   "cell_type": "code",
   "execution_count": 6,
   "metadata": {
    "colab": {
     "base_uri": "https://localhost:8080/"
    },
    "executionInfo": {
     "elapsed": 575,
     "status": "ok",
     "timestamp": 1661324663982,
     "user": {
      "displayName": "YBI Foundation",
      "userId": "14999490793651581791"
     },
     "user_tz": -330
    },
    "id": "CEQ00aPdvwT4",
    "outputId": "d80220b2-9e26-49c0-e218-3f93306f4fa0"
   },
   "outputs": [
    {
     "data": {
      "text/html": [
       "<div>\n",
       "<style scoped>\n",
       "    .dataframe tbody tr th:only-of-type {\n",
       "        vertical-align: middle;\n",
       "    }\n",
       "\n",
       "    .dataframe tbody tr th {\n",
       "        vertical-align: top;\n",
       "    }\n",
       "\n",
       "    .dataframe thead th {\n",
       "        text-align: right;\n",
       "    }\n",
       "</style>\n",
       "<table border=\"1\" class=\"dataframe\">\n",
       "  <thead>\n",
       "    <tr style=\"text-align: right;\">\n",
       "      <th></th>\n",
       "      <th>itching</th>\n",
       "      <th>skin_rash</th>\n",
       "      <th>nodal_skin_eruptions</th>\n",
       "      <th>continuous_sneezing</th>\n",
       "      <th>shivering</th>\n",
       "      <th>chills</th>\n",
       "      <th>joint_pain</th>\n",
       "      <th>stomach_pain</th>\n",
       "      <th>acidity</th>\n",
       "      <th>ulcers_on_tongue</th>\n",
       "      <th>...</th>\n",
       "      <th>blackheads</th>\n",
       "      <th>scurring</th>\n",
       "      <th>skin_peeling</th>\n",
       "      <th>silver_like_dusting</th>\n",
       "      <th>small_dents_in_nails</th>\n",
       "      <th>inflammatory_nails</th>\n",
       "      <th>blister</th>\n",
       "      <th>red_sore_around_nose</th>\n",
       "      <th>yellow_crust_ooze</th>\n",
       "      <th>prognosis</th>\n",
       "    </tr>\n",
       "  </thead>\n",
       "  <tbody>\n",
       "    <tr>\n",
       "      <th>0</th>\n",
       "      <td>1</td>\n",
       "      <td>1</td>\n",
       "      <td>1</td>\n",
       "      <td>0</td>\n",
       "      <td>0</td>\n",
       "      <td>0</td>\n",
       "      <td>0</td>\n",
       "      <td>0</td>\n",
       "      <td>0</td>\n",
       "      <td>0</td>\n",
       "      <td>...</td>\n",
       "      <td>0</td>\n",
       "      <td>0</td>\n",
       "      <td>0</td>\n",
       "      <td>0</td>\n",
       "      <td>0</td>\n",
       "      <td>0</td>\n",
       "      <td>0</td>\n",
       "      <td>0</td>\n",
       "      <td>0</td>\n",
       "      <td>Fungal infection</td>\n",
       "    </tr>\n",
       "    <tr>\n",
       "      <th>1</th>\n",
       "      <td>0</td>\n",
       "      <td>1</td>\n",
       "      <td>1</td>\n",
       "      <td>0</td>\n",
       "      <td>0</td>\n",
       "      <td>0</td>\n",
       "      <td>0</td>\n",
       "      <td>0</td>\n",
       "      <td>0</td>\n",
       "      <td>0</td>\n",
       "      <td>...</td>\n",
       "      <td>0</td>\n",
       "      <td>0</td>\n",
       "      <td>0</td>\n",
       "      <td>0</td>\n",
       "      <td>0</td>\n",
       "      <td>0</td>\n",
       "      <td>0</td>\n",
       "      <td>0</td>\n",
       "      <td>0</td>\n",
       "      <td>Fungal infection</td>\n",
       "    </tr>\n",
       "    <tr>\n",
       "      <th>2</th>\n",
       "      <td>1</td>\n",
       "      <td>0</td>\n",
       "      <td>1</td>\n",
       "      <td>0</td>\n",
       "      <td>0</td>\n",
       "      <td>0</td>\n",
       "      <td>0</td>\n",
       "      <td>0</td>\n",
       "      <td>0</td>\n",
       "      <td>0</td>\n",
       "      <td>...</td>\n",
       "      <td>0</td>\n",
       "      <td>0</td>\n",
       "      <td>0</td>\n",
       "      <td>0</td>\n",
       "      <td>0</td>\n",
       "      <td>0</td>\n",
       "      <td>0</td>\n",
       "      <td>0</td>\n",
       "      <td>0</td>\n",
       "      <td>Fungal infection</td>\n",
       "    </tr>\n",
       "    <tr>\n",
       "      <th>3</th>\n",
       "      <td>1</td>\n",
       "      <td>1</td>\n",
       "      <td>0</td>\n",
       "      <td>0</td>\n",
       "      <td>0</td>\n",
       "      <td>0</td>\n",
       "      <td>0</td>\n",
       "      <td>0</td>\n",
       "      <td>0</td>\n",
       "      <td>0</td>\n",
       "      <td>...</td>\n",
       "      <td>0</td>\n",
       "      <td>0</td>\n",
       "      <td>0</td>\n",
       "      <td>0</td>\n",
       "      <td>0</td>\n",
       "      <td>0</td>\n",
       "      <td>0</td>\n",
       "      <td>0</td>\n",
       "      <td>0</td>\n",
       "      <td>Fungal infection</td>\n",
       "    </tr>\n",
       "    <tr>\n",
       "      <th>4</th>\n",
       "      <td>1</td>\n",
       "      <td>1</td>\n",
       "      <td>1</td>\n",
       "      <td>0</td>\n",
       "      <td>0</td>\n",
       "      <td>0</td>\n",
       "      <td>0</td>\n",
       "      <td>0</td>\n",
       "      <td>0</td>\n",
       "      <td>0</td>\n",
       "      <td>...</td>\n",
       "      <td>0</td>\n",
       "      <td>0</td>\n",
       "      <td>0</td>\n",
       "      <td>0</td>\n",
       "      <td>0</td>\n",
       "      <td>0</td>\n",
       "      <td>0</td>\n",
       "      <td>0</td>\n",
       "      <td>0</td>\n",
       "      <td>Fungal infection</td>\n",
       "    </tr>\n",
       "  </tbody>\n",
       "</table>\n",
       "<p>5 rows × 133 columns</p>\n",
       "</div>"
      ],
      "text/plain": [
       "   itching  skin_rash  nodal_skin_eruptions  continuous_sneezing  shivering  \\\n",
       "0        1          1                     1                    0          0   \n",
       "1        0          1                     1                    0          0   \n",
       "2        1          0                     1                    0          0   \n",
       "3        1          1                     0                    0          0   \n",
       "4        1          1                     1                    0          0   \n",
       "\n",
       "   chills  joint_pain  stomach_pain  acidity  ulcers_on_tongue  ...  \\\n",
       "0       0           0             0        0                 0  ...   \n",
       "1       0           0             0        0                 0  ...   \n",
       "2       0           0             0        0                 0  ...   \n",
       "3       0           0             0        0                 0  ...   \n",
       "4       0           0             0        0                 0  ...   \n",
       "\n",
       "   blackheads  scurring  skin_peeling  silver_like_dusting  \\\n",
       "0           0         0             0                    0   \n",
       "1           0         0             0                    0   \n",
       "2           0         0             0                    0   \n",
       "3           0         0             0                    0   \n",
       "4           0         0             0                    0   \n",
       "\n",
       "   small_dents_in_nails  inflammatory_nails  blister  red_sore_around_nose  \\\n",
       "0                     0                   0        0                     0   \n",
       "1                     0                   0        0                     0   \n",
       "2                     0                   0        0                     0   \n",
       "3                     0                   0        0                     0   \n",
       "4                     0                   0        0                     0   \n",
       "\n",
       "   yellow_crust_ooze         prognosis  \n",
       "0                  0  Fungal infection  \n",
       "1                  0  Fungal infection  \n",
       "2                  0  Fungal infection  \n",
       "3                  0  Fungal infection  \n",
       "4                  0  Fungal infection  \n",
       "\n",
       "[5 rows x 133 columns]"
      ]
     },
     "execution_count": 6,
     "metadata": {},
     "output_type": "execute_result"
    }
   ],
   "source": [
    "# view data\n",
    "disease.head()\n",
    "\n"
   ]
  },
  {
   "cell_type": "code",
   "execution_count": null,
   "metadata": {},
   "outputs": [],
   "source": []
  },
  {
   "cell_type": "code",
   "execution_count": 7,
   "metadata": {
    "colab": {
     "base_uri": "https://localhost:8080/",
     "height": 394
    },
    "executionInfo": {
     "elapsed": 475,
     "status": "ok",
     "timestamp": 1661324401904,
     "user": {
      "displayName": "YBI Foundation",
      "userId": "14999490793651581791"
     },
     "user_tz": -330
    },
    "id": "dwf657_Rv1T2",
    "outputId": "004d5ae1-fe08-41fa-e729-a147e56b2f0a"
   },
   "outputs": [
    {
     "data": {
      "text/html": [
       "<div>\n",
       "<style scoped>\n",
       "    .dataframe tbody tr th:only-of-type {\n",
       "        vertical-align: middle;\n",
       "    }\n",
       "\n",
       "    .dataframe tbody tr th {\n",
       "        vertical-align: top;\n",
       "    }\n",
       "\n",
       "    .dataframe thead th {\n",
       "        text-align: right;\n",
       "    }\n",
       "</style>\n",
       "<table border=\"1\" class=\"dataframe\">\n",
       "  <thead>\n",
       "    <tr style=\"text-align: right;\">\n",
       "      <th></th>\n",
       "      <th>itching</th>\n",
       "      <th>skin_rash</th>\n",
       "      <th>nodal_skin_eruptions</th>\n",
       "      <th>continuous_sneezing</th>\n",
       "      <th>shivering</th>\n",
       "      <th>chills</th>\n",
       "      <th>joint_pain</th>\n",
       "      <th>stomach_pain</th>\n",
       "      <th>acidity</th>\n",
       "      <th>ulcers_on_tongue</th>\n",
       "      <th>...</th>\n",
       "      <th>pus_filled_pimples</th>\n",
       "      <th>blackheads</th>\n",
       "      <th>scurring</th>\n",
       "      <th>skin_peeling</th>\n",
       "      <th>silver_like_dusting</th>\n",
       "      <th>small_dents_in_nails</th>\n",
       "      <th>inflammatory_nails</th>\n",
       "      <th>blister</th>\n",
       "      <th>red_sore_around_nose</th>\n",
       "      <th>yellow_crust_ooze</th>\n",
       "    </tr>\n",
       "  </thead>\n",
       "  <tbody>\n",
       "    <tr>\n",
       "      <th>count</th>\n",
       "      <td>4920.000000</td>\n",
       "      <td>4920.000000</td>\n",
       "      <td>4920.000000</td>\n",
       "      <td>4920.000000</td>\n",
       "      <td>4920.000000</td>\n",
       "      <td>4920.000000</td>\n",
       "      <td>4920.000000</td>\n",
       "      <td>4920.000000</td>\n",
       "      <td>4920.000000</td>\n",
       "      <td>4920.000000</td>\n",
       "      <td>...</td>\n",
       "      <td>4920.000000</td>\n",
       "      <td>4920.000000</td>\n",
       "      <td>4920.000000</td>\n",
       "      <td>4920.000000</td>\n",
       "      <td>4920.000000</td>\n",
       "      <td>4920.000000</td>\n",
       "      <td>4920.000000</td>\n",
       "      <td>4920.000000</td>\n",
       "      <td>4920.000000</td>\n",
       "      <td>4920.000000</td>\n",
       "    </tr>\n",
       "    <tr>\n",
       "      <th>mean</th>\n",
       "      <td>0.137805</td>\n",
       "      <td>0.159756</td>\n",
       "      <td>0.021951</td>\n",
       "      <td>0.045122</td>\n",
       "      <td>0.021951</td>\n",
       "      <td>0.162195</td>\n",
       "      <td>0.139024</td>\n",
       "      <td>0.045122</td>\n",
       "      <td>0.045122</td>\n",
       "      <td>0.021951</td>\n",
       "      <td>...</td>\n",
       "      <td>0.021951</td>\n",
       "      <td>0.021951</td>\n",
       "      <td>0.021951</td>\n",
       "      <td>0.023171</td>\n",
       "      <td>0.023171</td>\n",
       "      <td>0.023171</td>\n",
       "      <td>0.023171</td>\n",
       "      <td>0.023171</td>\n",
       "      <td>0.023171</td>\n",
       "      <td>0.023171</td>\n",
       "    </tr>\n",
       "    <tr>\n",
       "      <th>std</th>\n",
       "      <td>0.344730</td>\n",
       "      <td>0.366417</td>\n",
       "      <td>0.146539</td>\n",
       "      <td>0.207593</td>\n",
       "      <td>0.146539</td>\n",
       "      <td>0.368667</td>\n",
       "      <td>0.346007</td>\n",
       "      <td>0.207593</td>\n",
       "      <td>0.207593</td>\n",
       "      <td>0.146539</td>\n",
       "      <td>...</td>\n",
       "      <td>0.146539</td>\n",
       "      <td>0.146539</td>\n",
       "      <td>0.146539</td>\n",
       "      <td>0.150461</td>\n",
       "      <td>0.150461</td>\n",
       "      <td>0.150461</td>\n",
       "      <td>0.150461</td>\n",
       "      <td>0.150461</td>\n",
       "      <td>0.150461</td>\n",
       "      <td>0.150461</td>\n",
       "    </tr>\n",
       "    <tr>\n",
       "      <th>min</th>\n",
       "      <td>0.000000</td>\n",
       "      <td>0.000000</td>\n",
       "      <td>0.000000</td>\n",
       "      <td>0.000000</td>\n",
       "      <td>0.000000</td>\n",
       "      <td>0.000000</td>\n",
       "      <td>0.000000</td>\n",
       "      <td>0.000000</td>\n",
       "      <td>0.000000</td>\n",
       "      <td>0.000000</td>\n",
       "      <td>...</td>\n",
       "      <td>0.000000</td>\n",
       "      <td>0.000000</td>\n",
       "      <td>0.000000</td>\n",
       "      <td>0.000000</td>\n",
       "      <td>0.000000</td>\n",
       "      <td>0.000000</td>\n",
       "      <td>0.000000</td>\n",
       "      <td>0.000000</td>\n",
       "      <td>0.000000</td>\n",
       "      <td>0.000000</td>\n",
       "    </tr>\n",
       "    <tr>\n",
       "      <th>25%</th>\n",
       "      <td>0.000000</td>\n",
       "      <td>0.000000</td>\n",
       "      <td>0.000000</td>\n",
       "      <td>0.000000</td>\n",
       "      <td>0.000000</td>\n",
       "      <td>0.000000</td>\n",
       "      <td>0.000000</td>\n",
       "      <td>0.000000</td>\n",
       "      <td>0.000000</td>\n",
       "      <td>0.000000</td>\n",
       "      <td>...</td>\n",
       "      <td>0.000000</td>\n",
       "      <td>0.000000</td>\n",
       "      <td>0.000000</td>\n",
       "      <td>0.000000</td>\n",
       "      <td>0.000000</td>\n",
       "      <td>0.000000</td>\n",
       "      <td>0.000000</td>\n",
       "      <td>0.000000</td>\n",
       "      <td>0.000000</td>\n",
       "      <td>0.000000</td>\n",
       "    </tr>\n",
       "    <tr>\n",
       "      <th>50%</th>\n",
       "      <td>0.000000</td>\n",
       "      <td>0.000000</td>\n",
       "      <td>0.000000</td>\n",
       "      <td>0.000000</td>\n",
       "      <td>0.000000</td>\n",
       "      <td>0.000000</td>\n",
       "      <td>0.000000</td>\n",
       "      <td>0.000000</td>\n",
       "      <td>0.000000</td>\n",
       "      <td>0.000000</td>\n",
       "      <td>...</td>\n",
       "      <td>0.000000</td>\n",
       "      <td>0.000000</td>\n",
       "      <td>0.000000</td>\n",
       "      <td>0.000000</td>\n",
       "      <td>0.000000</td>\n",
       "      <td>0.000000</td>\n",
       "      <td>0.000000</td>\n",
       "      <td>0.000000</td>\n",
       "      <td>0.000000</td>\n",
       "      <td>0.000000</td>\n",
       "    </tr>\n",
       "    <tr>\n",
       "      <th>75%</th>\n",
       "      <td>0.000000</td>\n",
       "      <td>0.000000</td>\n",
       "      <td>0.000000</td>\n",
       "      <td>0.000000</td>\n",
       "      <td>0.000000</td>\n",
       "      <td>0.000000</td>\n",
       "      <td>0.000000</td>\n",
       "      <td>0.000000</td>\n",
       "      <td>0.000000</td>\n",
       "      <td>0.000000</td>\n",
       "      <td>...</td>\n",
       "      <td>0.000000</td>\n",
       "      <td>0.000000</td>\n",
       "      <td>0.000000</td>\n",
       "      <td>0.000000</td>\n",
       "      <td>0.000000</td>\n",
       "      <td>0.000000</td>\n",
       "      <td>0.000000</td>\n",
       "      <td>0.000000</td>\n",
       "      <td>0.000000</td>\n",
       "      <td>0.000000</td>\n",
       "    </tr>\n",
       "    <tr>\n",
       "      <th>max</th>\n",
       "      <td>1.000000</td>\n",
       "      <td>1.000000</td>\n",
       "      <td>1.000000</td>\n",
       "      <td>1.000000</td>\n",
       "      <td>1.000000</td>\n",
       "      <td>1.000000</td>\n",
       "      <td>1.000000</td>\n",
       "      <td>1.000000</td>\n",
       "      <td>1.000000</td>\n",
       "      <td>1.000000</td>\n",
       "      <td>...</td>\n",
       "      <td>1.000000</td>\n",
       "      <td>1.000000</td>\n",
       "      <td>1.000000</td>\n",
       "      <td>1.000000</td>\n",
       "      <td>1.000000</td>\n",
       "      <td>1.000000</td>\n",
       "      <td>1.000000</td>\n",
       "      <td>1.000000</td>\n",
       "      <td>1.000000</td>\n",
       "      <td>1.000000</td>\n",
       "    </tr>\n",
       "  </tbody>\n",
       "</table>\n",
       "<p>8 rows × 132 columns</p>\n",
       "</div>"
      ],
      "text/plain": [
       "           itching    skin_rash  nodal_skin_eruptions  continuous_sneezing  \\\n",
       "count  4920.000000  4920.000000           4920.000000          4920.000000   \n",
       "mean      0.137805     0.159756              0.021951             0.045122   \n",
       "std       0.344730     0.366417              0.146539             0.207593   \n",
       "min       0.000000     0.000000              0.000000             0.000000   \n",
       "25%       0.000000     0.000000              0.000000             0.000000   \n",
       "50%       0.000000     0.000000              0.000000             0.000000   \n",
       "75%       0.000000     0.000000              0.000000             0.000000   \n",
       "max       1.000000     1.000000              1.000000             1.000000   \n",
       "\n",
       "         shivering       chills   joint_pain  stomach_pain      acidity  \\\n",
       "count  4920.000000  4920.000000  4920.000000   4920.000000  4920.000000   \n",
       "mean      0.021951     0.162195     0.139024      0.045122     0.045122   \n",
       "std       0.146539     0.368667     0.346007      0.207593     0.207593   \n",
       "min       0.000000     0.000000     0.000000      0.000000     0.000000   \n",
       "25%       0.000000     0.000000     0.000000      0.000000     0.000000   \n",
       "50%       0.000000     0.000000     0.000000      0.000000     0.000000   \n",
       "75%       0.000000     0.000000     0.000000      0.000000     0.000000   \n",
       "max       1.000000     1.000000     1.000000      1.000000     1.000000   \n",
       "\n",
       "       ulcers_on_tongue  ...  pus_filled_pimples   blackheads     scurring  \\\n",
       "count       4920.000000  ...         4920.000000  4920.000000  4920.000000   \n",
       "mean           0.021951  ...            0.021951     0.021951     0.021951   \n",
       "std            0.146539  ...            0.146539     0.146539     0.146539   \n",
       "min            0.000000  ...            0.000000     0.000000     0.000000   \n",
       "25%            0.000000  ...            0.000000     0.000000     0.000000   \n",
       "50%            0.000000  ...            0.000000     0.000000     0.000000   \n",
       "75%            0.000000  ...            0.000000     0.000000     0.000000   \n",
       "max            1.000000  ...            1.000000     1.000000     1.000000   \n",
       "\n",
       "       skin_peeling  silver_like_dusting  small_dents_in_nails  \\\n",
       "count   4920.000000          4920.000000           4920.000000   \n",
       "mean       0.023171             0.023171              0.023171   \n",
       "std        0.150461             0.150461              0.150461   \n",
       "min        0.000000             0.000000              0.000000   \n",
       "25%        0.000000             0.000000              0.000000   \n",
       "50%        0.000000             0.000000              0.000000   \n",
       "75%        0.000000             0.000000              0.000000   \n",
       "max        1.000000             1.000000              1.000000   \n",
       "\n",
       "       inflammatory_nails      blister  red_sore_around_nose  \\\n",
       "count         4920.000000  4920.000000           4920.000000   \n",
       "mean             0.023171     0.023171              0.023171   \n",
       "std              0.150461     0.150461              0.150461   \n",
       "min              0.000000     0.000000              0.000000   \n",
       "25%              0.000000     0.000000              0.000000   \n",
       "50%              0.000000     0.000000              0.000000   \n",
       "75%              0.000000     0.000000              0.000000   \n",
       "max              1.000000     1.000000              1.000000   \n",
       "\n",
       "       yellow_crust_ooze  \n",
       "count        4920.000000  \n",
       "mean            0.023171  \n",
       "std             0.150461  \n",
       "min             0.000000  \n",
       "25%             0.000000  \n",
       "50%             0.000000  \n",
       "75%             0.000000  \n",
       "max             1.000000  \n",
       "\n",
       "[8 rows x 132 columns]"
      ]
     },
     "execution_count": 7,
     "metadata": {},
     "output_type": "execute_result"
    }
   ],
   "source": [
    "# summary statistics\n",
    "disease.describe()"
   ]
  },
  {
   "cell_type": "code",
   "execution_count": 8,
   "metadata": {
    "colab": {
     "base_uri": "https://localhost:8080/"
    },
    "executionInfo": {
     "elapsed": 402,
     "status": "ok",
     "timestamp": 1661324404923,
     "user": {
      "displayName": "YBI Foundation",
      "userId": "14999490793651581791"
     },
     "user_tz": -330
    },
    "id": "yvLoDmdcv5Qm",
    "outputId": "50abb344-05f4-4566-d6d0-8f6970fc7dbb"
   },
   "outputs": [
    {
     "data": {
      "text/plain": [
       "itching                 0\n",
       "skin_rash               0\n",
       "nodal_skin_eruptions    0\n",
       "continuous_sneezing     0\n",
       "shivering               0\n",
       "                       ..\n",
       "inflammatory_nails      0\n",
       "blister                 0\n",
       "red_sore_around_nose    0\n",
       "yellow_crust_ooze       0\n",
       "prognosis               0\n",
       "Length: 133, dtype: int64"
      ]
     },
     "execution_count": 8,
     "metadata": {},
     "output_type": "execute_result"
    }
   ],
   "source": [
    "# check for missing value\n",
    "disease.isnull().sum()"
   ]
  },
  {
   "cell_type": "code",
   "execution_count": 9,
   "metadata": {
    "colab": {
     "base_uri": "https://localhost:8080/"
    },
    "executionInfo": {
     "elapsed": 413,
     "status": "ok",
     "timestamp": 1661324409628,
     "user": {
      "displayName": "YBI Foundation",
      "userId": "14999490793651581791"
     },
     "user_tz": -330
    },
    "id": "0dNMNNIvwBtd",
    "outputId": "c38558a9-c4e9-4f59-d23d-26e6fcd05419"
   },
   "outputs": [
    {
     "data": {
      "text/plain": [
       "41"
      ]
     },
     "execution_count": 9,
     "metadata": {},
     "output_type": "execute_result"
    }
   ],
   "source": [
    "# check for categories\n",
    "disease.prognosis.nunique()"
   ]
  },
  {
   "cell_type": "code",
   "execution_count": 10,
   "metadata": {},
   "outputs": [
    {
     "data": {
      "text/plain": [
       "itching                  2\n",
       "skin_rash                2\n",
       "nodal_skin_eruptions     2\n",
       "continuous_sneezing      2\n",
       "shivering                2\n",
       "                        ..\n",
       "inflammatory_nails       2\n",
       "blister                  2\n",
       "red_sore_around_nose     2\n",
       "yellow_crust_ooze        2\n",
       "prognosis               41\n",
       "Length: 133, dtype: int64"
      ]
     },
     "execution_count": 10,
     "metadata": {},
     "output_type": "execute_result"
    }
   ],
   "source": [
    "disease.nunique()"
   ]
  },
  {
   "cell_type": "code",
   "execution_count": 11,
   "metadata": {
    "colab": {
     "base_uri": "https://localhost:8080/",
     "height": 488
    },
    "executionInfo": {
     "elapsed": 526,
     "status": "ok",
     "timestamp": 1661324688145,
     "user": {
      "displayName": "YBI Foundation",
      "userId": "14999490793651581791"
     },
     "user_tz": -330
    },
    "id": "nF78p-E0CLKY",
    "outputId": "580fc825-bbd0-43e9-ae1a-753c93d1eb39"
   },
   "outputs": [
    {
     "name": "stderr",
     "output_type": "stream",
     "text": [
      "C:\\Users\\User\\AppData\\Local\\Temp\\ipykernel_20788\\3991021958.py:2: FutureWarning: The default value of numeric_only in DataFrame.corr is deprecated. In a future version, it will default to False. Select only valid columns or specify the value of numeric_only to silence this warning.\n",
      "  disease.corr()\n"
     ]
    },
    {
     "data": {
      "text/html": [
       "<div>\n",
       "<style scoped>\n",
       "    .dataframe tbody tr th:only-of-type {\n",
       "        vertical-align: middle;\n",
       "    }\n",
       "\n",
       "    .dataframe tbody tr th {\n",
       "        vertical-align: top;\n",
       "    }\n",
       "\n",
       "    .dataframe thead th {\n",
       "        text-align: right;\n",
       "    }\n",
       "</style>\n",
       "<table border=\"1\" class=\"dataframe\">\n",
       "  <thead>\n",
       "    <tr style=\"text-align: right;\">\n",
       "      <th></th>\n",
       "      <th>itching</th>\n",
       "      <th>skin_rash</th>\n",
       "      <th>nodal_skin_eruptions</th>\n",
       "      <th>continuous_sneezing</th>\n",
       "      <th>shivering</th>\n",
       "      <th>chills</th>\n",
       "      <th>joint_pain</th>\n",
       "      <th>stomach_pain</th>\n",
       "      <th>acidity</th>\n",
       "      <th>ulcers_on_tongue</th>\n",
       "      <th>...</th>\n",
       "      <th>pus_filled_pimples</th>\n",
       "      <th>blackheads</th>\n",
       "      <th>scurring</th>\n",
       "      <th>skin_peeling</th>\n",
       "      <th>silver_like_dusting</th>\n",
       "      <th>small_dents_in_nails</th>\n",
       "      <th>inflammatory_nails</th>\n",
       "      <th>blister</th>\n",
       "      <th>red_sore_around_nose</th>\n",
       "      <th>yellow_crust_ooze</th>\n",
       "    </tr>\n",
       "  </thead>\n",
       "  <tbody>\n",
       "    <tr>\n",
       "      <th>itching</th>\n",
       "      <td>1.000000</td>\n",
       "      <td>0.318158</td>\n",
       "      <td>0.326439</td>\n",
       "      <td>-0.086906</td>\n",
       "      <td>-0.059893</td>\n",
       "      <td>-0.175905</td>\n",
       "      <td>-0.160650</td>\n",
       "      <td>0.202850</td>\n",
       "      <td>-0.086906</td>\n",
       "      <td>-0.059893</td>\n",
       "      <td>...</td>\n",
       "      <td>-0.059893</td>\n",
       "      <td>-0.059893</td>\n",
       "      <td>-0.059893</td>\n",
       "      <td>-0.061573</td>\n",
       "      <td>-0.061573</td>\n",
       "      <td>-0.061573</td>\n",
       "      <td>-0.061573</td>\n",
       "      <td>-0.061573</td>\n",
       "      <td>-0.061573</td>\n",
       "      <td>-0.061573</td>\n",
       "    </tr>\n",
       "    <tr>\n",
       "      <th>skin_rash</th>\n",
       "      <td>0.318158</td>\n",
       "      <td>1.000000</td>\n",
       "      <td>0.298143</td>\n",
       "      <td>-0.094786</td>\n",
       "      <td>-0.065324</td>\n",
       "      <td>-0.029324</td>\n",
       "      <td>0.171134</td>\n",
       "      <td>0.161784</td>\n",
       "      <td>-0.094786</td>\n",
       "      <td>-0.065324</td>\n",
       "      <td>...</td>\n",
       "      <td>0.320859</td>\n",
       "      <td>0.320859</td>\n",
       "      <td>0.320859</td>\n",
       "      <td>0.331087</td>\n",
       "      <td>0.331087</td>\n",
       "      <td>0.331087</td>\n",
       "      <td>0.331087</td>\n",
       "      <td>0.331087</td>\n",
       "      <td>0.331087</td>\n",
       "      <td>0.331087</td>\n",
       "    </tr>\n",
       "    <tr>\n",
       "      <th>nodal_skin_eruptions</th>\n",
       "      <td>0.326439</td>\n",
       "      <td>0.298143</td>\n",
       "      <td>1.000000</td>\n",
       "      <td>-0.032566</td>\n",
       "      <td>-0.022444</td>\n",
       "      <td>-0.065917</td>\n",
       "      <td>-0.060200</td>\n",
       "      <td>-0.032566</td>\n",
       "      <td>-0.032566</td>\n",
       "      <td>-0.022444</td>\n",
       "      <td>...</td>\n",
       "      <td>-0.022444</td>\n",
       "      <td>-0.022444</td>\n",
       "      <td>-0.022444</td>\n",
       "      <td>-0.023073</td>\n",
       "      <td>-0.023073</td>\n",
       "      <td>-0.023073</td>\n",
       "      <td>-0.023073</td>\n",
       "      <td>-0.023073</td>\n",
       "      <td>-0.023073</td>\n",
       "      <td>-0.023073</td>\n",
       "    </tr>\n",
       "    <tr>\n",
       "      <th>continuous_sneezing</th>\n",
       "      <td>-0.086906</td>\n",
       "      <td>-0.094786</td>\n",
       "      <td>-0.032566</td>\n",
       "      <td>1.000000</td>\n",
       "      <td>0.608981</td>\n",
       "      <td>0.446238</td>\n",
       "      <td>-0.087351</td>\n",
       "      <td>-0.047254</td>\n",
       "      <td>-0.047254</td>\n",
       "      <td>-0.032566</td>\n",
       "      <td>...</td>\n",
       "      <td>-0.032566</td>\n",
       "      <td>-0.032566</td>\n",
       "      <td>-0.032566</td>\n",
       "      <td>-0.033480</td>\n",
       "      <td>-0.033480</td>\n",
       "      <td>-0.033480</td>\n",
       "      <td>-0.033480</td>\n",
       "      <td>-0.033480</td>\n",
       "      <td>-0.033480</td>\n",
       "      <td>-0.033480</td>\n",
       "    </tr>\n",
       "    <tr>\n",
       "      <th>shivering</th>\n",
       "      <td>-0.059893</td>\n",
       "      <td>-0.065324</td>\n",
       "      <td>-0.022444</td>\n",
       "      <td>0.608981</td>\n",
       "      <td>1.000000</td>\n",
       "      <td>0.295332</td>\n",
       "      <td>-0.060200</td>\n",
       "      <td>-0.032566</td>\n",
       "      <td>-0.032566</td>\n",
       "      <td>-0.022444</td>\n",
       "      <td>...</td>\n",
       "      <td>-0.022444</td>\n",
       "      <td>-0.022444</td>\n",
       "      <td>-0.022444</td>\n",
       "      <td>-0.023073</td>\n",
       "      <td>-0.023073</td>\n",
       "      <td>-0.023073</td>\n",
       "      <td>-0.023073</td>\n",
       "      <td>-0.023073</td>\n",
       "      <td>-0.023073</td>\n",
       "      <td>-0.023073</td>\n",
       "    </tr>\n",
       "    <tr>\n",
       "      <th>...</th>\n",
       "      <td>...</td>\n",
       "      <td>...</td>\n",
       "      <td>...</td>\n",
       "      <td>...</td>\n",
       "      <td>...</td>\n",
       "      <td>...</td>\n",
       "      <td>...</td>\n",
       "      <td>...</td>\n",
       "      <td>...</td>\n",
       "      <td>...</td>\n",
       "      <td>...</td>\n",
       "      <td>...</td>\n",
       "      <td>...</td>\n",
       "      <td>...</td>\n",
       "      <td>...</td>\n",
       "      <td>...</td>\n",
       "      <td>...</td>\n",
       "      <td>...</td>\n",
       "      <td>...</td>\n",
       "      <td>...</td>\n",
       "      <td>...</td>\n",
       "    </tr>\n",
       "    <tr>\n",
       "      <th>small_dents_in_nails</th>\n",
       "      <td>-0.061573</td>\n",
       "      <td>0.331087</td>\n",
       "      <td>-0.023073</td>\n",
       "      <td>-0.033480</td>\n",
       "      <td>-0.023073</td>\n",
       "      <td>-0.067765</td>\n",
       "      <td>0.359845</td>\n",
       "      <td>-0.033480</td>\n",
       "      <td>-0.033480</td>\n",
       "      <td>-0.023073</td>\n",
       "      <td>...</td>\n",
       "      <td>-0.023073</td>\n",
       "      <td>-0.023073</td>\n",
       "      <td>-0.023073</td>\n",
       "      <td>0.946120</td>\n",
       "      <td>0.946120</td>\n",
       "      <td>1.000000</td>\n",
       "      <td>0.946120</td>\n",
       "      <td>-0.023720</td>\n",
       "      <td>-0.023720</td>\n",
       "      <td>-0.023720</td>\n",
       "    </tr>\n",
       "    <tr>\n",
       "      <th>inflammatory_nails</th>\n",
       "      <td>-0.061573</td>\n",
       "      <td>0.331087</td>\n",
       "      <td>-0.023073</td>\n",
       "      <td>-0.033480</td>\n",
       "      <td>-0.023073</td>\n",
       "      <td>-0.067765</td>\n",
       "      <td>0.359845</td>\n",
       "      <td>-0.033480</td>\n",
       "      <td>-0.033480</td>\n",
       "      <td>-0.023073</td>\n",
       "      <td>...</td>\n",
       "      <td>-0.023073</td>\n",
       "      <td>-0.023073</td>\n",
       "      <td>-0.023073</td>\n",
       "      <td>0.946120</td>\n",
       "      <td>0.946120</td>\n",
       "      <td>0.946120</td>\n",
       "      <td>1.000000</td>\n",
       "      <td>-0.023720</td>\n",
       "      <td>-0.023720</td>\n",
       "      <td>-0.023720</td>\n",
       "    </tr>\n",
       "    <tr>\n",
       "      <th>blister</th>\n",
       "      <td>-0.061573</td>\n",
       "      <td>0.331087</td>\n",
       "      <td>-0.023073</td>\n",
       "      <td>-0.033480</td>\n",
       "      <td>-0.023073</td>\n",
       "      <td>-0.067765</td>\n",
       "      <td>-0.061889</td>\n",
       "      <td>-0.033480</td>\n",
       "      <td>-0.033480</td>\n",
       "      <td>-0.023073</td>\n",
       "      <td>...</td>\n",
       "      <td>-0.023073</td>\n",
       "      <td>-0.023073</td>\n",
       "      <td>-0.023073</td>\n",
       "      <td>-0.023720</td>\n",
       "      <td>-0.023720</td>\n",
       "      <td>-0.023720</td>\n",
       "      <td>-0.023720</td>\n",
       "      <td>1.000000</td>\n",
       "      <td>0.946120</td>\n",
       "      <td>0.946120</td>\n",
       "    </tr>\n",
       "    <tr>\n",
       "      <th>red_sore_around_nose</th>\n",
       "      <td>-0.061573</td>\n",
       "      <td>0.331087</td>\n",
       "      <td>-0.023073</td>\n",
       "      <td>-0.033480</td>\n",
       "      <td>-0.023073</td>\n",
       "      <td>-0.067765</td>\n",
       "      <td>-0.061889</td>\n",
       "      <td>-0.033480</td>\n",
       "      <td>-0.033480</td>\n",
       "      <td>-0.023073</td>\n",
       "      <td>...</td>\n",
       "      <td>-0.023073</td>\n",
       "      <td>-0.023073</td>\n",
       "      <td>-0.023073</td>\n",
       "      <td>-0.023720</td>\n",
       "      <td>-0.023720</td>\n",
       "      <td>-0.023720</td>\n",
       "      <td>-0.023720</td>\n",
       "      <td>0.946120</td>\n",
       "      <td>1.000000</td>\n",
       "      <td>0.946120</td>\n",
       "    </tr>\n",
       "    <tr>\n",
       "      <th>yellow_crust_ooze</th>\n",
       "      <td>-0.061573</td>\n",
       "      <td>0.331087</td>\n",
       "      <td>-0.023073</td>\n",
       "      <td>-0.033480</td>\n",
       "      <td>-0.023073</td>\n",
       "      <td>-0.067765</td>\n",
       "      <td>-0.061889</td>\n",
       "      <td>-0.033480</td>\n",
       "      <td>-0.033480</td>\n",
       "      <td>-0.023073</td>\n",
       "      <td>...</td>\n",
       "      <td>-0.023073</td>\n",
       "      <td>-0.023073</td>\n",
       "      <td>-0.023073</td>\n",
       "      <td>-0.023720</td>\n",
       "      <td>-0.023720</td>\n",
       "      <td>-0.023720</td>\n",
       "      <td>-0.023720</td>\n",
       "      <td>0.946120</td>\n",
       "      <td>0.946120</td>\n",
       "      <td>1.000000</td>\n",
       "    </tr>\n",
       "  </tbody>\n",
       "</table>\n",
       "<p>132 rows × 132 columns</p>\n",
       "</div>"
      ],
      "text/plain": [
       "                       itching  skin_rash  nodal_skin_eruptions  \\\n",
       "itching               1.000000   0.318158              0.326439   \n",
       "skin_rash             0.318158   1.000000              0.298143   \n",
       "nodal_skin_eruptions  0.326439   0.298143              1.000000   \n",
       "continuous_sneezing  -0.086906  -0.094786             -0.032566   \n",
       "shivering            -0.059893  -0.065324             -0.022444   \n",
       "...                        ...        ...                   ...   \n",
       "small_dents_in_nails -0.061573   0.331087             -0.023073   \n",
       "inflammatory_nails   -0.061573   0.331087             -0.023073   \n",
       "blister              -0.061573   0.331087             -0.023073   \n",
       "red_sore_around_nose -0.061573   0.331087             -0.023073   \n",
       "yellow_crust_ooze    -0.061573   0.331087             -0.023073   \n",
       "\n",
       "                      continuous_sneezing  shivering    chills  joint_pain  \\\n",
       "itching                         -0.086906  -0.059893 -0.175905   -0.160650   \n",
       "skin_rash                       -0.094786  -0.065324 -0.029324    0.171134   \n",
       "nodal_skin_eruptions            -0.032566  -0.022444 -0.065917   -0.060200   \n",
       "continuous_sneezing              1.000000   0.608981  0.446238   -0.087351   \n",
       "shivering                        0.608981   1.000000  0.295332   -0.060200   \n",
       "...                                   ...        ...       ...         ...   \n",
       "small_dents_in_nails            -0.033480  -0.023073 -0.067765    0.359845   \n",
       "inflammatory_nails              -0.033480  -0.023073 -0.067765    0.359845   \n",
       "blister                         -0.033480  -0.023073 -0.067765   -0.061889   \n",
       "red_sore_around_nose            -0.033480  -0.023073 -0.067765   -0.061889   \n",
       "yellow_crust_ooze               -0.033480  -0.023073 -0.067765   -0.061889   \n",
       "\n",
       "                      stomach_pain   acidity  ulcers_on_tongue  ...  \\\n",
       "itching                   0.202850 -0.086906         -0.059893  ...   \n",
       "skin_rash                 0.161784 -0.094786         -0.065324  ...   \n",
       "nodal_skin_eruptions     -0.032566 -0.032566         -0.022444  ...   \n",
       "continuous_sneezing      -0.047254 -0.047254         -0.032566  ...   \n",
       "shivering                -0.032566 -0.032566         -0.022444  ...   \n",
       "...                            ...       ...               ...  ...   \n",
       "small_dents_in_nails     -0.033480 -0.033480         -0.023073  ...   \n",
       "inflammatory_nails       -0.033480 -0.033480         -0.023073  ...   \n",
       "blister                  -0.033480 -0.033480         -0.023073  ...   \n",
       "red_sore_around_nose     -0.033480 -0.033480         -0.023073  ...   \n",
       "yellow_crust_ooze        -0.033480 -0.033480         -0.023073  ...   \n",
       "\n",
       "                      pus_filled_pimples  blackheads  scurring  skin_peeling  \\\n",
       "itching                        -0.059893   -0.059893 -0.059893     -0.061573   \n",
       "skin_rash                       0.320859    0.320859  0.320859      0.331087   \n",
       "nodal_skin_eruptions           -0.022444   -0.022444 -0.022444     -0.023073   \n",
       "continuous_sneezing            -0.032566   -0.032566 -0.032566     -0.033480   \n",
       "shivering                      -0.022444   -0.022444 -0.022444     -0.023073   \n",
       "...                                  ...         ...       ...           ...   \n",
       "small_dents_in_nails           -0.023073   -0.023073 -0.023073      0.946120   \n",
       "inflammatory_nails             -0.023073   -0.023073 -0.023073      0.946120   \n",
       "blister                        -0.023073   -0.023073 -0.023073     -0.023720   \n",
       "red_sore_around_nose           -0.023073   -0.023073 -0.023073     -0.023720   \n",
       "yellow_crust_ooze              -0.023073   -0.023073 -0.023073     -0.023720   \n",
       "\n",
       "                      silver_like_dusting  small_dents_in_nails  \\\n",
       "itching                         -0.061573             -0.061573   \n",
       "skin_rash                        0.331087              0.331087   \n",
       "nodal_skin_eruptions            -0.023073             -0.023073   \n",
       "continuous_sneezing             -0.033480             -0.033480   \n",
       "shivering                       -0.023073             -0.023073   \n",
       "...                                   ...                   ...   \n",
       "small_dents_in_nails             0.946120              1.000000   \n",
       "inflammatory_nails               0.946120              0.946120   \n",
       "blister                         -0.023720             -0.023720   \n",
       "red_sore_around_nose            -0.023720             -0.023720   \n",
       "yellow_crust_ooze               -0.023720             -0.023720   \n",
       "\n",
       "                      inflammatory_nails   blister  red_sore_around_nose  \\\n",
       "itching                        -0.061573 -0.061573             -0.061573   \n",
       "skin_rash                       0.331087  0.331087              0.331087   \n",
       "nodal_skin_eruptions           -0.023073 -0.023073             -0.023073   \n",
       "continuous_sneezing            -0.033480 -0.033480             -0.033480   \n",
       "shivering                      -0.023073 -0.023073             -0.023073   \n",
       "...                                  ...       ...                   ...   \n",
       "small_dents_in_nails            0.946120 -0.023720             -0.023720   \n",
       "inflammatory_nails              1.000000 -0.023720             -0.023720   \n",
       "blister                        -0.023720  1.000000              0.946120   \n",
       "red_sore_around_nose           -0.023720  0.946120              1.000000   \n",
       "yellow_crust_ooze              -0.023720  0.946120              0.946120   \n",
       "\n",
       "                      yellow_crust_ooze  \n",
       "itching                       -0.061573  \n",
       "skin_rash                      0.331087  \n",
       "nodal_skin_eruptions          -0.023073  \n",
       "continuous_sneezing           -0.033480  \n",
       "shivering                     -0.023073  \n",
       "...                                 ...  \n",
       "small_dents_in_nails          -0.023720  \n",
       "inflammatory_nails            -0.023720  \n",
       "blister                        0.946120  \n",
       "red_sore_around_nose           0.946120  \n",
       "yellow_crust_ooze              1.000000  \n",
       "\n",
       "[132 rows x 132 columns]"
      ]
     },
     "execution_count": 11,
     "metadata": {},
     "output_type": "execute_result"
    }
   ],
   "source": [
    "# correlation\n",
    "disease.corr()"
   ]
  },
  {
   "cell_type": "code",
   "execution_count": 12,
   "metadata": {
    "id": "YVH5G64MyPWu"
   },
   "outputs": [],
   "source": [
    "# visualize pairplot\n",
    "import seaborn as sns"
   ]
  },
  {
   "cell_type": "code",
   "execution_count": 13,
   "metadata": {},
   "outputs": [],
   "source": [
    "import matplotlib.pyplot as plt"
   ]
  },
  {
   "cell_type": "code",
   "execution_count": 14,
   "metadata": {},
   "outputs": [
    {
     "data": {
      "text/plain": [
       "Fungal infection                           120\n",
       "Hepatitis C                                120\n",
       "Hepatitis E                                120\n",
       "Alcoholic hepatitis                        120\n",
       "Tuberculosis                               120\n",
       "Common Cold                                120\n",
       "Pneumonia                                  120\n",
       "Dimorphic hemmorhoids(piles)               120\n",
       "Heart attack                               120\n",
       "Varicose veins                             120\n",
       "Hypothyroidism                             120\n",
       "Hyperthyroidism                            120\n",
       "Hypoglycemia                               120\n",
       "Osteoarthristis                            120\n",
       "Arthritis                                  120\n",
       "(vertigo) Paroymsal  Positional Vertigo    120\n",
       "Acne                                       120\n",
       "Urinary tract infection                    120\n",
       "Psoriasis                                  120\n",
       "Hepatitis D                                120\n",
       "Hepatitis B                                120\n",
       "Allergy                                    120\n",
       "hepatitis A                                120\n",
       "GERD                                       120\n",
       "Chronic cholestasis                        120\n",
       "Drug Reaction                              120\n",
       "Peptic ulcer diseae                        120\n",
       "AIDS                                       120\n",
       "Diabetes                                   120\n",
       "Gastroenteritis                            120\n",
       "Bronchial Asthma                           120\n",
       "Hypertension                               120\n",
       "Migraine                                   120\n",
       "Cervical spondylosis                       120\n",
       "Paralysis (brain hemorrhage)               120\n",
       "Jaundice                                   120\n",
       "Malaria                                    120\n",
       "Chicken pox                                120\n",
       "Dengue                                     120\n",
       "Typhoid                                    120\n",
       "Impetigo                                   120\n",
       "Name: prognosis, dtype: int64"
      ]
     },
     "execution_count": 14,
     "metadata": {},
     "output_type": "execute_result"
    }
   ],
   "source": [
    "disease['prognosis'].value_counts()"
   ]
  },
  {
   "cell_type": "code",
   "execution_count": 15,
   "metadata": {},
   "outputs": [
    {
     "data": {
      "text/plain": [
       "<Axes: >"
      ]
     },
     "execution_count": 15,
     "metadata": {},
     "output_type": "execute_result"
    },
    {
     "data": {
      "image/png": "[encoded data removed]",
      "text/plain": [
       "<Figure size 640x480 with 1 Axes>"
      ]
     },
     "metadata": {},
     "output_type": "display_data"
    }
   ],
   "source": [
    "disease['prognosis'].value_counts().plot.bar()"
   ]
  },
  {
   "cell_type": "code",
   "execution_count": 16,
   "metadata": {
    "colab": {
     "base_uri": "https://localhost:8080/"
    },
    "executionInfo": {
     "elapsed": 443,
     "status": "ok",
     "timestamp": 1661324704265,
     "user": {
      "displayName": "YBI Foundation",
      "userId": "14999490793651581791"
     },
     "user_tz": -330
    },
    "id": "ymxMIpJtzyYK",
    "outputId": "6eb3c25d-2a5e-473d-a21d-9ab696b8e3d1"
   },
   "outputs": [
    {
     "data": {
      "text/plain": [
       "Index(['itching', 'skin_rash', 'nodal_skin_eruptions', 'continuous_sneezing',\n",
       "       'shivering', 'chills', 'joint_pain', 'stomach_pain', 'acidity',\n",
       "       'ulcers_on_tongue',\n",
       "       ...\n",
       "       'blackheads', 'scurring', 'skin_peeling', 'silver_like_dusting',\n",
       "       'small_dents_in_nails', 'inflammatory_nails', 'blister',\n",
       "       'red_sore_around_nose', 'yellow_crust_ooze', 'prognosis'],\n",
       "      dtype='object', length=133)"
      ]
     },
     "execution_count": 16,
     "metadata": {},
     "output_type": "execute_result"
    }
   ],
   "source": [
    "# column names\n",
    "disease.columns"
   ]
  },
  {
   "cell_type": "code",
   "execution_count": 17,
   "metadata": {},
   "outputs": [
    {
     "data": {
      "text/plain": [
       "(4920, 133)"
      ]
     },
     "execution_count": 17,
     "metadata": {},
     "output_type": "execute_result"
    }
   ],
   "source": [
    "disease.shape"
   ]
  },
  {
   "cell_type": "code",
   "execution_count": 18,
   "metadata": {
    "id": "kDznvpMcz3Xj"
   },
   "outputs": [],
   "source": [
    "# define y\n",
    "y = disease['prognosis']\n",
    "     "
   ]
  },
  {
   "cell_type": "code",
   "execution_count": 19,
   "metadata": {
    "id": "VYOT05Uzz63S"
   },
   "outputs": [],
   "source": [
    "# define X\n",
    "x = disease[['itching', 'skin_rash', 'nodal_skin_eruptions', 'continuous_sneezing',\n",
    "       'shivering', 'chills', 'joint_pain', 'stomach_pain', 'acidity',\n",
    "       'ulcers_on_tongue','blackheads', 'scurring', 'skin_peeling', 'silver_like_dusting',\n",
    "       'small_dents_in_nails', 'inflammatory_nails', 'blister',\n",
    "       'red_sore_around_nose', 'yellow_crust_ooze']]\n",
    "     "
   ]
  },
  {
   "cell_type": "code",
   "execution_count": 20,
   "metadata": {
    "id": "BMu-d3slzX7j"
   },
   "outputs": [],
   "source": [
    "# split data\n",
    "from sklearn.model_selection import train_test_split"
   ]
  },
  {
   "cell_type": "code",
   "execution_count": 21,
   "metadata": {},
   "outputs": [],
   "source": [
    "x_train, x_test, y_train, y_test = train_test_split(x,y ,train_size = 0.8, random_state=2817)\n",
    "     "
   ]
  },
  {
   "cell_type": "code",
   "execution_count": 22,
   "metadata": {
    "colab": {
     "base_uri": "https://localhost:8080/"
    },
    "executionInfo": {
     "elapsed": 426,
     "status": "ok",
     "timestamp": 1661324771894,
     "user": {
      "displayName": "YBI Foundation",
      "userId": "14999490793651581791"
     },
     "user_tz": -330
    },
    "id": "6TYpjNnAzgHV",
    "outputId": "c93f8148-8355-4f5b-ba21-3b822c30dec6"
   },
   "outputs": [
    {
     "data": {
      "text/plain": [
       "((3936, 19), (984, 19), (3936,), (984,))"
      ]
     },
     "execution_count": 22,
     "metadata": {},
     "output_type": "execute_result"
    }
   ],
   "source": [
    "# verify shape\n",
    "x_train.shape, x_test.shape, y_train.shape, y_test.shape\n",
    "     "
   ]
  },
  {
   "cell_type": "code",
   "execution_count": 23,
   "metadata": {
    "id": "JsLlB3pi0Frp"
   },
   "outputs": [],
   "source": [
    "# select model\n",
    "from sklearn.ensemble import RandomForestClassifier\n",
    "model = RandomForestClassifier()\n",
    "     "
   ]
  },
  {
   "cell_type": "code",
   "execution_count": 24,
   "metadata": {
    "colab": {
     "base_uri": "https://localhost:8080/"
    },
    "executionInfo": {
     "elapsed": 1172,
     "status": "ok",
     "timestamp": 1661324811812,
     "user": {
      "displayName": "YBI Foundation",
      "userId": "14999490793651581791"
     },
     "user_tz": -330
    },
    "id": "zNcMLK2N0S4N",
    "outputId": "42689df8-ca4f-4fc7-ce92-35a129c091a1"
   },
   "outputs": [
    {
     "data": {
      "text/html": [
       "<style>#sk-container-id-1 {color: black;background-color: white;}#sk-container-id-1 pre{padding: 0;}#sk-container-id-1 div.sk-toggleable {background-color: white;}#sk-container-id-1 label.sk-toggleable__label {cursor: pointer;display: block;width: 100%;margin-bottom: 0;padding: 0.3em;box-sizing: border-box;text-align: center;}#sk-container-id-1 label.sk-toggleable__label-arrow:before {content: \"▸\";float: left;margin-right: 0.25em;color: #696969;}#sk-container-id-1 label.sk-toggleable__label-arrow:hover:before {color: black;}#sk-container-id-1 div.sk-estimator:hover label.sk-toggleable__label-arrow:before {color: black;}#sk-container-id-1 div.sk-toggleable__content {max-height: 0;max-width: 0;overflow: hidden;text-align: left;background-color: #f0f8ff;}#sk-container-id-1 div.sk-toggleable__content pre {margin: 0.2em;color: black;border-radius: 0.25em;background-color: #f0f8ff;}#sk-container-id-1 input.sk-toggleable__control:checked~div.sk-toggleable__content {max-height: 200px;max-width: 100%;overflow: auto;}#sk-container-id-1 input.sk-toggleable__control:checked~label.sk-toggleable__label-arrow:before {content: \"▾\";}#sk-container-id-1 div.sk-estimator input.sk-toggleable__control:checked~label.sk-toggleable__label {background-color: #d4ebff;}#sk-container-id-1 div.sk-label input.sk-toggleable__control:checked~label.sk-toggleable__label {background-color: #d4ebff;}#sk-container-id-1 input.sk-hidden--visually {border: 0;clip: rect(1px 1px 1px 1px);clip: rect(1px, 1px, 1px, 1px);height: 1px;margin: -1px;overflow: hidden;padding: 0;position: absolute;width: 1px;}#sk-container-id-1 div.sk-estimator {font-family: monospace;background-color: #f0f8ff;border: 1px dotted black;border-radius: 0.25em;box-sizing: border-box;margin-bottom: 0.5em;}#sk-container-id-1 div.sk-estimator:hover {background-color: #d4ebff;}#sk-container-id-1 div.sk-parallel-item::after {content: \"\";width: 100%;border-bottom: 1px solid gray;flex-grow: 1;}#sk-container-id-1 div.sk-label:hover label.sk-toggleable__label {background-color: #d4ebff;}#sk-container-id-1 div.sk-serial::before {content: \"\";position: absolute;border-left: 1px solid gray;box-sizing: border-box;top: 0;bottom: 0;left: 50%;z-index: 0;}#sk-container-id-1 div.sk-serial {display: flex;flex-direction: column;align-items: center;background-color: white;padding-right: 0.2em;padding-left: 0.2em;position: relative;}#sk-container-id-1 div.sk-item {position: relative;z-index: 1;}#sk-container-id-1 div.sk-parallel {display: flex;align-items: stretch;justify-content: center;background-color: white;position: relative;}#sk-container-id-1 div.sk-item::before, #sk-container-id-1 div.sk-parallel-item::before {content: \"\";position: absolute;border-left: 1px solid gray;box-sizing: border-box;top: 0;bottom: 0;left: 50%;z-index: -1;}#sk-container-id-1 div.sk-parallel-item {display: flex;flex-direction: column;z-index: 1;position: relative;background-color: white;}#sk-container-id-1 div.sk-parallel-item:first-child::after {align-self: flex-end;width: 50%;}#sk-container-id-1 div.sk-parallel-item:last-child::after {align-self: flex-start;width: 50%;}#sk-container-id-1 div.sk-parallel-item:only-child::after {width: 0;}#sk-container-id-1 div.sk-dashed-wrapped {border: 1px dashed gray;margin: 0 0.4em 0.5em 0.4em;box-sizing: border-box;padding-bottom: 0.4em;background-color: white;}#sk-container-id-1 div.sk-label label {font-family: monospace;font-weight: bold;display: inline-block;line-height: 1.2em;}#sk-container-id-1 div.sk-label-container {text-align: center;}#sk-container-id-1 div.sk-container {/* jupyter's `normalize.less` sets `[hidden] { display: none; }` but bootstrap.min.css set `[hidden] { display: none !important; }` so we also need the `!important` here to be able to override the default hidden behavior on the sphinx rendered scikit-learn.org. See: https://github.com/scikit-learn/scikit-learn/issues/21755 */display: inline-block !important;position: relative;}#sk-container-id-1 div.sk-text-repr-fallback {display: none;}</style><div id=\"sk-container-id-1\" class=\"sk-top-container\"><div class=\"sk-text-repr-fallback\"><pre>RandomForestClassifier()</pre><b>In a Jupyter environment, please rerun this cell to show the HTML representation or trust the notebook. <br />On GitHub, the HTML representation is unable to render, please try loading this page with nbviewer.org.</b></div><div class=\"sk-container\" hidden><div class=\"sk-item\"><div class=\"sk-estimator sk-toggleable\"><input class=\"sk-toggleable__control sk-hidden--visually\" id=\"sk-estimator-id-1\" type=\"checkbox\" checked><label for=\"sk-estimator-id-1\" class=\"sk-toggleable__label sk-toggleable__label-arrow\">RandomForestClassifier</label><div class=\"sk-toggleable__content\"><pre>RandomForestClassifier()</pre></div></div></div></div></div>"
      ],
      "text/plain": [
       "RandomForestClassifier()"
      ]
     },
     "execution_count": 24,
     "metadata": {},
     "output_type": "execute_result"
    }
   ],
   "source": [
    "# train model\n",
    "model.fit(x_train,y_train)\n",
    "     "
   ]
  },
  {
   "cell_type": "code",
   "execution_count": 25,
   "metadata": {
    "id": "Ucz0oHDj0X36"
   },
   "outputs": [],
   "source": [
    "# predict with model\n",
    "y_pred = model.predict(x_test)"
   ]
  },
  {
   "cell_type": "code",
   "execution_count": 26,
   "metadata": {
    "id": "9ueK-hy00e3-"
   },
   "outputs": [],
   "source": [
    "# model evaluation\n",
    "from sklearn.metrics import accuracy_score, confusion_matrix, classification_report"
   ]
  },
  {
   "cell_type": "code",
   "execution_count": 27,
   "metadata": {
    "colab": {
     "base_uri": "https://localhost:8080/"
    },
    "executionInfo": {
     "elapsed": 12,
     "status": "ok",
     "timestamp": 1661324816875,
     "user": {
      "displayName": "YBI Foundation",
      "userId": "14999490793651581791"
     },
     "user_tz": -330
    },
    "id": "JJV2eHf50o4W",
    "outputId": "8a3cb83f-683a-4be5-ca27-ae3467cc7057"
   },
   "outputs": [
    {
     "data": {
      "text/plain": [
       "0.33739837398373984"
      ]
     },
     "execution_count": 27,
     "metadata": {},
     "output_type": "execute_result"
    }
   ],
   "source": [
    "# model accuracy\n",
    "accuracy_score(y_test,y_pred)\n",
    "     "
   ]
  },
  {
   "cell_type": "code",
   "execution_count": 28,
   "metadata": {
    "colab": {
     "base_uri": "https://localhost:8080/"
    },
    "executionInfo": {
     "elapsed": 3,
     "status": "ok",
     "timestamp": 1661324818614,
     "user": {
      "displayName": "YBI Foundation",
      "userId": "14999490793651581791"
     },
     "user_tz": -330
    },
    "id": "h100Msuz00TT",
    "outputId": "26ab22d9-efef-4161-97ae-8fa447b2648d"
   },
   "outputs": [
    {
     "data": {
      "text/plain": [
       "array([[ 0,  0,  0, ...,  0,  0,  0],\n",
       "       [ 0,  0,  0, ...,  0,  0,  0],\n",
       "       [ 0,  0, 24, ...,  0,  0,  0],\n",
       "       ...,\n",
       "       [ 0,  0,  0, ...,  0,  0,  0],\n",
       "       [ 0,  0,  0, ...,  0,  0,  0],\n",
       "       [ 0,  0,  0, ...,  0,  0,  0]], dtype=int64)"
      ]
     },
     "execution_count": 28,
     "metadata": {},
     "output_type": "execute_result"
    }
   ],
   "source": [
    "# model confusion matrix\n",
    "confusion_matrix(y_test, y_pred)"
   ]
  },
  {
   "cell_type": "code",
   "execution_count": 29,
   "metadata": {
    "colab": {
     "base_uri": "https://localhost:8080/"
    },
    "executionInfo": {
     "elapsed": 638,
     "status": "ok",
     "timestamp": 1661324820827,
     "user": {
      "displayName": "YBI Foundation",
      "userId": "14999490793651581791"
     },
     "user_tz": -330
    },
    "id": "BINeM-mo1Arv",
    "outputId": "425f2f93-dd16-4fb4-c68c-e4372b6b2d64"
   },
   "outputs": [
    {
     "name": "stderr",
     "output_type": "stream",
     "text": [
      "C:\\Users\\User\\anaconda3\\lib\\site-packages\\sklearn\\metrics\\_classification.py:1344: UndefinedMetricWarning: Precision and F-score are ill-defined and being set to 0.0 in labels with no predicted samples. Use `zero_division` parameter to control this behavior.\n",
      "  _warn_prf(average, modifier, msg_start, len(result))\n",
      "C:\\Users\\User\\anaconda3\\lib\\site-packages\\sklearn\\metrics\\_classification.py:1344: UndefinedMetricWarning: Precision and F-score are ill-defined and being set to 0.0 in labels with no predicted samples. Use `zero_division` parameter to control this behavior.\n",
      "  _warn_prf(average, modifier, msg_start, len(result))\n"
     ]
    },
    {
     "name": "stdout",
     "output_type": "stream",
     "text": [
      "                                         precision    recall  f1-score   support\n",
      "\n",
      "(vertigo) Paroymsal  Positional Vertigo       0.00      0.00      0.00        22\n",
      "                                   AIDS       0.00      0.00      0.00        24\n",
      "                                   Acne       1.00      1.00      1.00        24\n",
      "                    Alcoholic hepatitis       0.00      0.00      0.00        32\n",
      "                                Allergy       1.00      0.93      0.96        28\n",
      "                              Arthritis       0.00      0.00      0.00        23\n",
      "                       Bronchial Asthma       0.00      0.00      0.00        22\n",
      "                   Cervical spondylosis       0.00      0.00      0.00        25\n",
      "                            Chicken pox       0.76      0.93      0.83        27\n",
      "                    Chronic cholestasis       0.00      0.00      0.00        26\n",
      "                            Common Cold       0.92      0.89      0.91        27\n",
      "                                 Dengue       1.00      1.00      1.00        23\n",
      "                              Diabetes        0.00      0.00      0.00        31\n",
      "           Dimorphic hemmorhoids(piles)       0.00      0.00      0.00        32\n",
      "                          Drug Reaction       1.00      0.83      0.90        23\n",
      "                       Fungal infection       1.00      0.86      0.92        28\n",
      "                                   GERD       1.00      1.00      1.00        21\n",
      "                        Gastroenteritis       0.00      0.00      0.00        25\n",
      "                           Heart attack       0.00      0.00      0.00        18\n",
      "                            Hepatitis B       0.00      0.00      0.00        26\n",
      "                            Hepatitis C       0.00      0.00      0.00        22\n",
      "                            Hepatitis D       0.00      0.00      0.00        28\n",
      "                            Hepatitis E       0.00      0.00      0.00        28\n",
      "                          Hypertension        0.00      0.00      0.00        28\n",
      "                        Hyperthyroidism       0.00      0.00      0.00        20\n",
      "                           Hypoglycemia       0.00      0.00      0.00        27\n",
      "                         Hypothyroidism       0.00      0.00      0.00        29\n",
      "                               Impetigo       1.00      1.00      1.00        19\n",
      "                               Jaundice       0.32      0.96      0.48        25\n",
      "                                Malaria       0.00      0.00      0.00        18\n",
      "                               Migraine       1.00      0.93      0.97        30\n",
      "                        Osteoarthristis       0.20      0.95      0.34        21\n",
      "           Paralysis (brain hemorrhage)       0.00      0.00      0.00        15\n",
      "                    Peptic ulcer diseae       0.03      1.00      0.06        15\n",
      "                              Pneumonia       0.00      0.00      0.00        20\n",
      "                              Psoriasis       1.00      1.00      1.00        22\n",
      "                           Tuberculosis       0.23      0.90      0.36        20\n",
      "                                Typhoid       0.00      0.00      0.00        22\n",
      "                Urinary tract infection       0.00      0.00      0.00        26\n",
      "                         Varicose veins       0.00      0.00      0.00        19\n",
      "                            hepatitis A       0.00      0.00      0.00        23\n",
      "\n",
      "                               accuracy                           0.34       984\n",
      "                              macro avg       0.28      0.35      0.29       984\n",
      "                           weighted avg       0.29      0.34      0.29       984\n",
      "\n"
     ]
    },
    {
     "name": "stderr",
     "output_type": "stream",
     "text": [
      "C:\\Users\\User\\anaconda3\\lib\\site-packages\\sklearn\\metrics\\_classification.py:1344: UndefinedMetricWarning: Precision and F-score are ill-defined and being set to 0.0 in labels with no predicted samples. Use `zero_division` parameter to control this behavior.\n",
      "  _warn_prf(average, modifier, msg_start, len(result))\n"
     ]
    }
   ],
   "source": [
    "# model classification report\n",
    "print(classification_report(y_test,y_pred))"
   ]
  },
  {
   "cell_type": "code",
   "execution_count": 30,
   "metadata": {
    "colab": {
     "base_uri": "https://localhost:8080/",
     "height": 191
    },
    "executionInfo": {
     "elapsed": 531,
     "status": "ok",
     "timestamp": 1661324829056,
     "user": {
      "displayName": "YBI Foundation",
      "userId": "14999490793651581791"
     },
     "user_tz": -330
    },
    "id": "_kC5WrRO1Gfj",
    "outputId": "62811be1-ba34-4534-c160-76bafea172a4"
   },
   "outputs": [],
   "source": [
    "# future prediction\n",
    "x_new = x.sample()"
   ]
  },
  {
   "cell_type": "code",
   "execution_count": 31,
   "metadata": {
    "colab": {
     "base_uri": "https://localhost:8080/",
     "height": 174
    },
    "executionInfo": {
     "elapsed": 9,
     "status": "ok",
     "timestamp": 1661324830631,
     "user": {
      "displayName": "YBI Foundation",
      "userId": "14999490793651581791"
     },
     "user_tz": -330
    },
    "id": "CxLn9E-n1Zht",
    "outputId": "2395459a-2059-4fcc-f135-cd3b5e78604a"
   },
   "outputs": [
    {
     "data": {
      "text/html": [
       "<div>\n",
       "<style scoped>\n",
       "    .dataframe tbody tr th:only-of-type {\n",
       "        vertical-align: middle;\n",
       "    }\n",
       "\n",
       "    .dataframe tbody tr th {\n",
       "        vertical-align: top;\n",
       "    }\n",
       "\n",
       "    .dataframe thead th {\n",
       "        text-align: right;\n",
       "    }\n",
       "</style>\n",
       "<table border=\"1\" class=\"dataframe\">\n",
       "  <thead>\n",
       "    <tr style=\"text-align: right;\">\n",
       "      <th></th>\n",
       "      <th>itching</th>\n",
       "      <th>skin_rash</th>\n",
       "      <th>nodal_skin_eruptions</th>\n",
       "      <th>continuous_sneezing</th>\n",
       "      <th>shivering</th>\n",
       "      <th>chills</th>\n",
       "      <th>joint_pain</th>\n",
       "      <th>stomach_pain</th>\n",
       "      <th>acidity</th>\n",
       "      <th>ulcers_on_tongue</th>\n",
       "      <th>blackheads</th>\n",
       "      <th>scurring</th>\n",
       "      <th>skin_peeling</th>\n",
       "      <th>silver_like_dusting</th>\n",
       "      <th>small_dents_in_nails</th>\n",
       "      <th>inflammatory_nails</th>\n",
       "      <th>blister</th>\n",
       "      <th>red_sore_around_nose</th>\n",
       "      <th>yellow_crust_ooze</th>\n",
       "    </tr>\n",
       "  </thead>\n",
       "  <tbody>\n",
       "    <tr>\n",
       "      <th>1854</th>\n",
       "      <td>0</td>\n",
       "      <td>0</td>\n",
       "      <td>0</td>\n",
       "      <td>0</td>\n",
       "      <td>0</td>\n",
       "      <td>0</td>\n",
       "      <td>0</td>\n",
       "      <td>0</td>\n",
       "      <td>0</td>\n",
       "      <td>0</td>\n",
       "      <td>0</td>\n",
       "      <td>0</td>\n",
       "      <td>0</td>\n",
       "      <td>0</td>\n",
       "      <td>0</td>\n",
       "      <td>0</td>\n",
       "      <td>0</td>\n",
       "      <td>0</td>\n",
       "      <td>0</td>\n",
       "    </tr>\n",
       "  </tbody>\n",
       "</table>\n",
       "</div>"
      ],
      "text/plain": [
       "      itching  skin_rash  nodal_skin_eruptions  continuous_sneezing  \\\n",
       "1854        0          0                     0                    0   \n",
       "\n",
       "      shivering  chills  joint_pain  stomach_pain  acidity  ulcers_on_tongue  \\\n",
       "1854          0       0           0             0        0                 0   \n",
       "\n",
       "      blackheads  scurring  skin_peeling  silver_like_dusting  \\\n",
       "1854           0         0             0                    0   \n",
       "\n",
       "      small_dents_in_nails  inflammatory_nails  blister  red_sore_around_nose  \\\n",
       "1854                     0                   0        0                     0   \n",
       "\n",
       "      yellow_crust_ooze  \n",
       "1854                  0  "
      ]
     },
     "execution_count": 31,
     "metadata": {},
     "output_type": "execute_result"
    }
   ],
   "source": [
    "# define X_new\n",
    "x_new\n",
    "     "
   ]
  },
  {
   "cell_type": "code",
   "execution_count": 32,
   "metadata": {
    "colab": {
     "base_uri": "https://localhost:8080/"
    },
    "executionInfo": {
     "elapsed": 3,
     "status": "ok",
     "timestamp": 1661324832470,
     "user": {
      "displayName": "YBI Foundation",
      "userId": "14999490793651581791"
     },
     "user_tz": -330
    },
    "id": "ph3XVzdw2MS2",
    "outputId": "51c39737-2955-40f7-cafe-8c02847ae03e"
   },
   "outputs": [
    {
     "data": {
      "text/plain": [
       "array(['Peptic ulcer diseae'], dtype=object)"
      ]
     },
     "execution_count": 32,
     "metadata": {},
     "output_type": "execute_result"
    }
   ],
   "source": [
    "# predict for X_new\n",
    "model.predict(x_new)"
   ]
  },
  {
   "cell_type": "markdown",
   "metadata": {},
   "source": [
    "## Using KNeighbors Model"
   ]
  },
  {
   "cell_type": "code",
   "execution_count": 33,
   "metadata": {},
   "outputs": [],
   "source": [
    "# select model\n",
    "from sklearn.neighbors import KNeighborsClassifier\n",
    "model = KNeighborsClassifier()\n",
    "     "
   ]
  },
  {
   "cell_type": "code",
   "execution_count": 34,
   "metadata": {},
   "outputs": [
    {
     "data": {
      "text/html": [
       "<style>#sk-container-id-2 {color: black;background-color: white;}#sk-container-id-2 pre{padding: 0;}#sk-container-id-2 div.sk-toggleable {background-color: white;}#sk-container-id-2 label.sk-toggleable__label {cursor: pointer;display: block;width: 100%;margin-bottom: 0;padding: 0.3em;box-sizing: border-box;text-align: center;}#sk-container-id-2 label.sk-toggleable__label-arrow:before {content: \"▸\";float: left;margin-right: 0.25em;color: #696969;}#sk-container-id-2 label.sk-toggleable__label-arrow:hover:before {color: black;}#sk-container-id-2 div.sk-estimator:hover label.sk-toggleable__label-arrow:before {color: black;}#sk-container-id-2 div.sk-toggleable__content {max-height: 0;max-width: 0;overflow: hidden;text-align: left;background-color: #f0f8ff;}#sk-container-id-2 div.sk-toggleable__content pre {margin: 0.2em;color: black;border-radius: 0.25em;background-color: #f0f8ff;}#sk-container-id-2 input.sk-toggleable__control:checked~div.sk-toggleable__content {max-height: 200px;max-width: 100%;overflow: auto;}#sk-container-id-2 input.sk-toggleable__control:checked~label.sk-toggleable__label-arrow:before {content: \"▾\";}#sk-container-id-2 div.sk-estimator input.sk-toggleable__control:checked~label.sk-toggleable__label {background-color: #d4ebff;}#sk-container-id-2 div.sk-label input.sk-toggleable__control:checked~label.sk-toggleable__label {background-color: #d4ebff;}#sk-container-id-2 input.sk-hidden--visually {border: 0;clip: rect(1px 1px 1px 1px);clip: rect(1px, 1px, 1px, 1px);height: 1px;margin: -1px;overflow: hidden;padding: 0;position: absolute;width: 1px;}#sk-container-id-2 div.sk-estimator {font-family: monospace;background-color: #f0f8ff;border: 1px dotted black;border-radius: 0.25em;box-sizing: border-box;margin-bottom: 0.5em;}#sk-container-id-2 div.sk-estimator:hover {background-color: #d4ebff;}#sk-container-id-2 div.sk-parallel-item::after {content: \"\";width: 100%;border-bottom: 1px solid gray;flex-grow: 1;}#sk-container-id-2 div.sk-label:hover label.sk-toggleable__label {background-color: #d4ebff;}#sk-container-id-2 div.sk-serial::before {content: \"\";position: absolute;border-left: 1px solid gray;box-sizing: border-box;top: 0;bottom: 0;left: 50%;z-index: 0;}#sk-container-id-2 div.sk-serial {display: flex;flex-direction: column;align-items: center;background-color: white;padding-right: 0.2em;padding-left: 0.2em;position: relative;}#sk-container-id-2 div.sk-item {position: relative;z-index: 1;}#sk-container-id-2 div.sk-parallel {display: flex;align-items: stretch;justify-content: center;background-color: white;position: relative;}#sk-container-id-2 div.sk-item::before, #sk-container-id-2 div.sk-parallel-item::before {content: \"\";position: absolute;border-left: 1px solid gray;box-sizing: border-box;top: 0;bottom: 0;left: 50%;z-index: -1;}#sk-container-id-2 div.sk-parallel-item {display: flex;flex-direction: column;z-index: 1;position: relative;background-color: white;}#sk-container-id-2 div.sk-parallel-item:first-child::after {align-self: flex-end;width: 50%;}#sk-container-id-2 div.sk-parallel-item:last-child::after {align-self: flex-start;width: 50%;}#sk-container-id-2 div.sk-parallel-item:only-child::after {width: 0;}#sk-container-id-2 div.sk-dashed-wrapped {border: 1px dashed gray;margin: 0 0.4em 0.5em 0.4em;box-sizing: border-box;padding-bottom: 0.4em;background-color: white;}#sk-container-id-2 div.sk-label label {font-family: monospace;font-weight: bold;display: inline-block;line-height: 1.2em;}#sk-container-id-2 div.sk-label-container {text-align: center;}#sk-container-id-2 div.sk-container {/* jupyter's `normalize.less` sets `[hidden] { display: none; }` but bootstrap.min.css set `[hidden] { display: none !important; }` so we also need the `!important` here to be able to override the default hidden behavior on the sphinx rendered scikit-learn.org. See: https://github.com/scikit-learn/scikit-learn/issues/21755 */display: inline-block !important;position: relative;}#sk-container-id-2 div.sk-text-repr-fallback {display: none;}</style><div id=\"sk-container-id-2\" class=\"sk-top-container\"><div class=\"sk-text-repr-fallback\"><pre>KNeighborsClassifier()</pre><b>In a Jupyter environment, please rerun this cell to show the HTML representation or trust the notebook. <br />On GitHub, the HTML representation is unable to render, please try loading this page with nbviewer.org.</b></div><div class=\"sk-container\" hidden><div class=\"sk-item\"><div class=\"sk-estimator sk-toggleable\"><input class=\"sk-toggleable__control sk-hidden--visually\" id=\"sk-estimator-id-2\" type=\"checkbox\" checked><label for=\"sk-estimator-id-2\" class=\"sk-toggleable__label sk-toggleable__label-arrow\">KNeighborsClassifier</label><div class=\"sk-toggleable__content\"><pre>KNeighborsClassifier()</pre></div></div></div></div></div>"
      ],
      "text/plain": [
       "KNeighborsClassifier()"
      ]
     },
     "execution_count": 34,
     "metadata": {},
     "output_type": "execute_result"
    }
   ],
   "source": [
    "# train or fit model\n",
    "model.fit(x_train,y_train)\n",
    "     "
   ]
  },
  {
   "cell_type": "code",
   "execution_count": 35,
   "metadata": {},
   "outputs": [],
   "source": [
    "# predict with model\n",
    "y_pred = model.predict(x_test)\n",
    "     "
   ]
  },
  {
   "cell_type": "code",
   "execution_count": 36,
   "metadata": {},
   "outputs": [],
   "source": [
    "# model evaluation\n",
    "from sklearn.metrics import accuracy_score, confusion_matrix, classification_report\n",
    "     \n"
   ]
  },
  {
   "cell_type": "code",
   "execution_count": 37,
   "metadata": {},
   "outputs": [
    {
     "data": {
      "text/plain": [
       "0.3516260162601626"
      ]
     },
     "execution_count": 37,
     "metadata": {},
     "output_type": "execute_result"
    }
   ],
   "source": [
    "# model accuracy\n",
    "accuracy_score(y_test, y_pred)"
   ]
  },
  {
   "cell_type": "code",
   "execution_count": 38,
   "metadata": {},
   "outputs": [
    {
     "data": {
      "text/plain": [
       "array([[ 0,  0,  0, ...,  0,  0,  0],\n",
       "       [ 0,  0,  0, ...,  0,  0,  0],\n",
       "       [ 0,  0, 24, ...,  0,  0,  0],\n",
       "       ...,\n",
       "       [ 0,  0,  0, ...,  0,  0,  0],\n",
       "       [ 0,  0,  0, ...,  0,  0,  0],\n",
       "       [ 0,  0,  0, ...,  0,  0,  0]], dtype=int64)"
      ]
     },
     "execution_count": 38,
     "metadata": {},
     "output_type": "execute_result"
    }
   ],
   "source": [
    "# model confusion matrix\n",
    "confusion_matrix(y_test, y_pred)\n",
    "     "
   ]
  },
  {
   "cell_type": "code",
   "execution_count": 39,
   "metadata": {},
   "outputs": [
    {
     "name": "stderr",
     "output_type": "stream",
     "text": [
      "C:\\Users\\User\\anaconda3\\lib\\site-packages\\sklearn\\metrics\\_classification.py:1344: UndefinedMetricWarning: Precision and F-score are ill-defined and being set to 0.0 in labels with no predicted samples. Use `zero_division` parameter to control this behavior.\n",
      "  _warn_prf(average, modifier, msg_start, len(result))\n",
      "C:\\Users\\User\\anaconda3\\lib\\site-packages\\sklearn\\metrics\\_classification.py:1344: UndefinedMetricWarning: Precision and F-score are ill-defined and being set to 0.0 in labels with no predicted samples. Use `zero_division` parameter to control this behavior.\n",
      "  _warn_prf(average, modifier, msg_start, len(result))\n"
     ]
    },
    {
     "name": "stdout",
     "output_type": "stream",
     "text": [
      "                                         precision    recall  f1-score   support\n",
      "\n",
      "(vertigo) Paroymsal  Positional Vertigo       0.00      0.00      0.00        22\n",
      "                                   AIDS       0.00      0.00      0.00        24\n",
      "                                   Acne       1.00      1.00      1.00        24\n",
      "                    Alcoholic hepatitis       0.00      0.00      0.00        32\n",
      "                                Allergy       1.00      0.93      0.96        28\n",
      "                              Arthritis       0.00      0.00      0.00        23\n",
      "                       Bronchial Asthma       0.00      0.00      0.00        22\n",
      "                   Cervical spondylosis       0.00      0.00      0.00        25\n",
      "                            Chicken pox       0.76      0.93      0.83        27\n",
      "                    Chronic cholestasis       0.00      0.00      0.00        26\n",
      "                            Common Cold       0.92      0.89      0.91        27\n",
      "                                 Dengue       1.00      1.00      1.00        23\n",
      "                              Diabetes        0.00      0.00      0.00        31\n",
      "           Dimorphic hemmorhoids(piles)       0.00      0.00      0.00        32\n",
      "                          Drug Reaction       1.00      0.83      0.90        23\n",
      "                       Fungal infection       1.00      0.86      0.92        28\n",
      "                                   GERD       1.00      1.00      1.00        21\n",
      "                        Gastroenteritis       0.00      0.00      0.00        25\n",
      "                           Heart attack       0.00      0.00      0.00        18\n",
      "                            Hepatitis B       0.32      0.92      0.48        26\n",
      "                            Hepatitis C       0.00      0.00      0.00        22\n",
      "                            Hepatitis D       0.00      0.00      0.00        28\n",
      "                            Hepatitis E       0.00      0.00      0.00        28\n",
      "                          Hypertension        0.00      0.00      0.00        28\n",
      "                        Hyperthyroidism       0.00      0.00      0.00        20\n",
      "                           Hypoglycemia       0.06      1.00      0.11        27\n",
      "                         Hypothyroidism       0.00      0.00      0.00        29\n",
      "                               Impetigo       1.00      1.00      1.00        19\n",
      "                               Jaundice       0.00      0.00      0.00        25\n",
      "                                Malaria       0.00      0.00      0.00        18\n",
      "                               Migraine       1.00      0.93      0.97        30\n",
      "                        Osteoarthristis       0.20      0.95      0.34        21\n",
      "           Paralysis (brain hemorrhage)       0.00      0.00      0.00        15\n",
      "                    Peptic ulcer diseae       0.00      0.00      0.00        15\n",
      "                              Pneumonia       0.25      1.00      0.40        20\n",
      "                              Psoriasis       1.00      1.00      1.00        22\n",
      "                           Tuberculosis       0.00      0.00      0.00        20\n",
      "                                Typhoid       0.00      0.00      0.00        22\n",
      "                Urinary tract infection       0.00      0.00      0.00        26\n",
      "                         Varicose veins       0.00      0.00      0.00        19\n",
      "                            hepatitis A       0.00      0.00      0.00        23\n",
      "\n",
      "                               accuracy                           0.35       984\n",
      "                              macro avg       0.28      0.35      0.29       984\n",
      "                           weighted avg       0.29      0.35      0.29       984\n",
      "\n"
     ]
    },
    {
     "name": "stderr",
     "output_type": "stream",
     "text": [
      "C:\\Users\\User\\anaconda3\\lib\\site-packages\\sklearn\\metrics\\_classification.py:1344: UndefinedMetricWarning: Precision and F-score are ill-defined and being set to 0.0 in labels with no predicted samples. Use `zero_division` parameter to control this behavior.\n",
      "  _warn_prf(average, modifier, msg_start, len(result))\n"
     ]
    }
   ],
   "source": [
    "# model classification report\n",
    "print(classification_report(y_test, y_pred))\n",
    "     "
   ]
  },
  {
   "cell_type": "code",
   "execution_count": 40,
   "metadata": {},
   "outputs": [],
   "source": [
    "# future prediction\n",
    "x_new = x.sample()\n",
    "     "
   ]
  },
  {
   "cell_type": "code",
   "execution_count": 41,
   "metadata": {},
   "outputs": [
    {
     "data": {
      "text/html": [
       "<div>\n",
       "<style scoped>\n",
       "    .dataframe tbody tr th:only-of-type {\n",
       "        vertical-align: middle;\n",
       "    }\n",
       "\n",
       "    .dataframe tbody tr th {\n",
       "        vertical-align: top;\n",
       "    }\n",
       "\n",
       "    .dataframe thead th {\n",
       "        text-align: right;\n",
       "    }\n",
       "</style>\n",
       "<table border=\"1\" class=\"dataframe\">\n",
       "  <thead>\n",
       "    <tr style=\"text-align: right;\">\n",
       "      <th></th>\n",
       "      <th>itching</th>\n",
       "      <th>skin_rash</th>\n",
       "      <th>nodal_skin_eruptions</th>\n",
       "      <th>continuous_sneezing</th>\n",
       "      <th>shivering</th>\n",
       "      <th>chills</th>\n",
       "      <th>joint_pain</th>\n",
       "      <th>stomach_pain</th>\n",
       "      <th>acidity</th>\n",
       "      <th>ulcers_on_tongue</th>\n",
       "      <th>blackheads</th>\n",
       "      <th>scurring</th>\n",
       "      <th>skin_peeling</th>\n",
       "      <th>silver_like_dusting</th>\n",
       "      <th>small_dents_in_nails</th>\n",
       "      <th>inflammatory_nails</th>\n",
       "      <th>blister</th>\n",
       "      <th>red_sore_around_nose</th>\n",
       "      <th>yellow_crust_ooze</th>\n",
       "    </tr>\n",
       "  </thead>\n",
       "  <tbody>\n",
       "    <tr>\n",
       "      <th>4527</th>\n",
       "      <td>0</td>\n",
       "      <td>1</td>\n",
       "      <td>0</td>\n",
       "      <td>0</td>\n",
       "      <td>0</td>\n",
       "      <td>1</td>\n",
       "      <td>1</td>\n",
       "      <td>0</td>\n",
       "      <td>0</td>\n",
       "      <td>0</td>\n",
       "      <td>0</td>\n",
       "      <td>0</td>\n",
       "      <td>0</td>\n",
       "      <td>0</td>\n",
       "      <td>0</td>\n",
       "      <td>0</td>\n",
       "      <td>0</td>\n",
       "      <td>0</td>\n",
       "      <td>0</td>\n",
       "    </tr>\n",
       "  </tbody>\n",
       "</table>\n",
       "</div>"
      ],
      "text/plain": [
       "      itching  skin_rash  nodal_skin_eruptions  continuous_sneezing  \\\n",
       "4527        0          1                     0                    0   \n",
       "\n",
       "      shivering  chills  joint_pain  stomach_pain  acidity  ulcers_on_tongue  \\\n",
       "4527          0       1           1             0        0                 0   \n",
       "\n",
       "      blackheads  scurring  skin_peeling  silver_like_dusting  \\\n",
       "4527           0         0             0                    0   \n",
       "\n",
       "      small_dents_in_nails  inflammatory_nails  blister  red_sore_around_nose  \\\n",
       "4527                     0                   0        0                     0   \n",
       "\n",
       "      yellow_crust_ooze  \n",
       "4527                  0  "
      ]
     },
     "execution_count": 41,
     "metadata": {},
     "output_type": "execute_result"
    }
   ],
   "source": [
    "# define X_new\n",
    "x_new"
   ]
  },
  {
   "cell_type": "code",
   "execution_count": 42,
   "metadata": {},
   "outputs": [
    {
     "data": {
      "text/plain": [
       "array(['Dengue'], dtype=object)"
      ]
     },
     "execution_count": 42,
     "metadata": {},
     "output_type": "execute_result"
    }
   ],
   "source": [
    "# predict for X_new\n",
    "model.predict(x_new)\n",
    "     "
   ]
  },
  {
   "cell_type": "code",
   "execution_count": null,
   "metadata": {},
   "outputs": [],
   "source": []
  }
 ],
 "metadata": {
  "colab": {
   "authorship_tag": "ABX9TyMoqSOrDX8pNTN+fxxFUlx7",
   "collapsed_sections": [],
   "name": "Classification Model to Identify Multiple Disease Project.ipynb",
   "provenance": []
  },
  "kernelspec": {
   "display_name": "Python 3 (ipykernel)",
   "language": "python",
   "name": "python3"
  },
  "language_info": {
   "codemirror_mode": {
    "name": "ipython",
    "version": 3
   },
   "file_extension": ".py",
   "mimetype": "text/x-python",
   "name": "python",
   "nbconvert_exporter": "python",
   "pygments_lexer": "ipython3",
   "version": "3.10.9"
  }
 },
 "nbformat": 4,
 "nbformat_minor": 1
}
